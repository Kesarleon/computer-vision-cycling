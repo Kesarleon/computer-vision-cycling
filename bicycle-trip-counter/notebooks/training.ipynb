# ---
# jupyter:
#   jupytext:
#     text_representation:
#       extension: .py
#       format_name: light
#       format_version: '1.5'
#       jupytext_version: 1.13.7
#   kernelspec:
#     display_name: Python 3 (ipykernel)
#     language: python
#     name: python3
# ---

# # Training a CNN for Cyclist Detection
#
# This notebook covers the process of training a Convolutional Neural Network (CNN) to detect cyclists in images. The steps include:
# 1.  **Exploratory Data Analysis (EDA):** Understanding the dataset.
# 2.  **Data Preprocessing:** Preparing the data for training.
# 3.  **Model Building:** Creating the CNN architecture.
# 4.  **Training:** Training the model on the prepared data.
# 5.  **Evaluation:** Assessing the model's performance.

# ## 1. Setup and Imports

# +
import os
import numpy as np
import tensorflow as tf
from tensorflow.keras.preprocessing.image import ImageDataGenerator
from tensorflow.keras.models import Sequential
from tensorflow.keras.layers import Conv2D, MaxPooling2D, Flatten, Dense, Dropout
import matplotlib.pyplot as plt
# -

# ## 2. Data Preparation
#
# For this notebook, we assume that the data is organized in the following structure:
# ```
# data/
# ├── train/
# │   ├── cyclist/
# │   └── no_cyclist/
# └── validation/
#     ├── cyclist/
#     └── no_cyclist/
# ```
#
# You will need to populate these directories with your own image data.

# +
# Define paths
train_dir = '../data/train'
validation_dir = '../data/validation'

# Image dimensions
IMG_WIDTH, IMG_HEIGHT = 150, 150
# -

# ## 3. Data Augmentation and Generators
#
# We use `ImageDataGenerator` to perform data augmentation, which helps in preventing overfitting.

# +
train_datagen = ImageDataGenerator(
    rescale=1./255,
    rotation_range=40,
    width_shift_range=0.2,
    height_shift_range=0.2,
    shear_range=0.2,
    zoom_range=0.2,
    horizontal_flip=True,
    fill_mode='nearest'
)

validation_datagen = ImageDataGenerator(rescale=1./255)

train_generator = train_datagen.flow_from_directory(
    train_dir,
    target_size=(IMG_WIDTH, IMG_HEIGHT),
    batch_size=20,
    class_mode='binary'
)

validation_generator = validation_datagen.flow_from_directory(
    validation_dir,
    target_size=(IMG_WIDTH, IMG_HEIGHT),
    batch_size=20,
    class_mode='binary'
)
# -

# ## 4. Building the CNN Model

# +
model = Sequential([
    Conv2D(32, (3, 3), activation='relu', input_shape=(IMG_WIDTH, IMG_HEIGHT, 3)),
    MaxPooling2D(2, 2),

    Conv2D(64, (3, 3), activation='relu'),
    MaxPooling2D(2, 2),

    Conv2D(128, (3, 3), activation='relu'),
    MaxPooling2D(2, 2),

    Flatten(),
    Dense(512, activation='relu'),
    Dropout(0.5),
    Dense(1, activation='sigmoid')
])

model.compile(optimizer='adam',
              loss='binary_crossentropy',
              metrics=['accuracy'])

model.summary()
# -

# ## 5. Training the Model
#
# Now, we train the model using the data generators.

# +
# This step requires the data directories to be populated.
# If you run this, make sure the paths are correct and data is available.
# history = model.fit(
#     train_generator,
#     steps_per_epoch=100,  # Depends on the size of your dataset
#     epochs=30,
#     validation_data=validation_generator,
#     validation_steps=50  # Depends on the size of your validation set
# )
# -

# ## 6. Evaluating the Model
#
# After training, we can visualize the accuracy and loss curves.

# +
# acc = history.history['accuracy']
# val_acc = history.history['val_accuracy']
# loss = history.history['loss']
# val_loss = history.history['val_loss']

# epochs_range = range(len(acc))

# plt.figure(figsize=(8, 8))
# plt.subplot(1, 2, 1)
# plt.plot(epochs_range, acc, label='Training Accuracy')
# plt.plot(epochs_range, val_acc, label='Validation Accuracy')
# plt.legend(loc='lower right')
# plt.title('Training and Validation Accuracy')

# plt.subplot(1, 2, 2)
# plt.plot(epochs_range, loss, label='Training Loss')
# plt.plot(epochs_range, val_loss, label='Validation Loss')
# plt.legend(loc='upper right')
# plt.title('Training and Validation Loss')
# plt.show()
# -

# ## 7. Saving the Model
#
# Finally, save the trained model for use in the Streamlit app.

# +
# model.save('cyclist_detection_model.h5')
# -
