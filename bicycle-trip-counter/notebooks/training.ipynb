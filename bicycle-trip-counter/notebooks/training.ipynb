{
 "cells": [
  {
   "cell_type": "markdown",
   "metadata": {},
   "source": [
    "# Entrenamiento del Modelo de Detección de Ciclistas\n",
    "\n",
    "Este notebook cubre el proceso completo para entrenar un modelo de CNN para detectar bicicletas en fotogramas de video. El proceso incluye:\n",
    "\n",
    "1.  **Extracción de Fotogramas:** Extraer fotogramas de videos de muestra.\n",
    "2.  **Generación de Archivo de Etiquetas:** Crear un `labels.csv` para que el usuario lo complete.\n",
    "3.  **Carga y Preprocesamiento de Datos:** Cargar los fotogramas y etiquetas, y prepararlos para el entrenamiento.\n",
    "4.  **Construcción y Entrenamiento del Modelo:** Definir y entrenar un modelo de CNN.\n",
    "5.  **Guardado del Modelo:** Guardar el modelo entrenado para su uso en la aplicación."
   ]
  },
  {
   "cell_type": "markdown",
   "metadata": {},
   "source": [
    "## 1. Importar Librerías"
   ]
  },
  {
   "cell_type": "code",
   "execution_count": null,
   "metadata": {},
   "outputs": [],
   "source": [
    "import os\n",
    "import cv2\n",
    "import numpy as np\n",
    "import pandas as pd\n",
    "import tensorflow as tf\n",
    "from tensorflow.keras.models import Sequential\n",
    "from tensorflow.keras.layers import Conv2D, MaxPooling2D, Flatten, Dense, Dropout\n",
    "from tensorflow.keras.preprocessing.image import ImageDataGenerator\n",
    "from sklearn.model_selection import train_test_split\n",
    "import matplotlib.pyplot as plt\n",
    "import shutil"
   ]
  },
  {
   "cell_type": "markdown",
   "metadata": {},
   "source": [
    "## 2. Preparación de Datos"
   ]
  },
  {
   "cell_type": "markdown",
   "metadata": {},
   "source": [
    "### 2.1. Extraer Fotogramas de Videos\n",
    "\n",
    "Esta función procesa todos los videos en `../data/` y extrae un fotograma por segundo, guardándolos en `../data/frames/`."
   ]
  },
  {
   "cell_type": "code",
   "execution_count": null,
   "metadata": {},
   "outputs": [],
   "source": [
    "def extract_frames(video_dir='../data', output_dir='../data/frames'):\n",
    "    if not os.path.exists(output_dir):\n",
    "        os.makedirs(output_dir)\n",
    "    else:\n",
    "        # Limpiar directorio para evitar fotogramas antiguos\n",
    "        shutil.rmtree(output_dir)\n",
    "        os.makedirs(output_dir)\n",
    "    \n",
    "    video_files = [f for f in os.listdir(video_dir) if f.endswith(('.mp4', '.avi'))]\n",
    "    \n",
    "    if not video_files:\n",
    "        print(\"No se encontraron videos en el directorio 'data/'. Por favor, añade videos para procesar.\")\n",
    "        return\n",
    "\n",
    "    frame_count = 0\n",
    "    for video_file in video_files:\n",
    "        video_path = os.path.join(video_dir, video_file)\n",
    "        cap = cv2.VideoCapture(video_path)\n",
    "        fps = cap.get(cv2.CAP_PROP_FPS)\n",
    "        \n",
    "        if fps == 0:\n",
    "            print(f\"No se pudo leer el video {video_file}, saltando.\")\n",
    "            continue\n",
    "            \n",
    "        frame_interval = int(fps) # Extraer un fotograma por segundo\n",
    "        \n",
    "        while cap.isOpened():\n",
    "            frame_id = int(cap.get(cv2.CAP_PROP_POS_FRAMES))\n",
    "            ret, frame = cap.read()\n",
    "            if not ret:\n",
    "                break\n",
    "            \n",
    "            if frame_id % frame_interval == 0:\n",
    "                frame_filename = os.path.join(output_dir, f\"frame_{frame_count:04d}.jpg\")\n",
    "                cv2.imwrite(frame_filename, frame)\n",
    "                frame_count += 1\n",
    "        \n",
    "        cap.release()\n",
    "    \n",
    "    print(f\"Se extrajeron {frame_count} fotogramas y se guardaron en '{output_dir}'.\")\n",
    "\n",
    "# Ejecutar la extracción\n",
    "extract_frames()"
   ]
  },
  {
   "cell_type": "markdown",
   "metadata": {},
   "source": [
    "### 2.2. Generar Archivo de Etiquetas (para el usuario)\n",
    "\n",
    "Este paso crea un archivo `labels.csv`. **Acción requerida por el usuario:** Debes abrir este archivo y rellenar la columna `has_bicycle` con `1` si el fotograma contiene una bicicleta y `0` si no."
   ]
  },
  {
   "cell_type": "code",
   "execution_count": null,
   "metadata": {},
   "outputs": [],
   "source": [
    "def generate_labels_file(frames_dir='../data/frames', output_csv='../data/labels.csv'):\n",
    "    frame_files = [f for f in os.listdir(frames_dir) if f.endswith('.jpg')]\n",
    "    if not frame_files:\n",
    "        print(\"No se encontraron fotogramas. Ejecuta la extracción primero.\")\n",
    "        return\n",
    "\n",
    "    df = pd.DataFrame({'frame': sorted(frame_files)})\n",
    "    # El usuario debe rellenar esta columna. Por defecto, ponemos 0.\n",
    "    df['has_bicycle'] = 0 \n",
    "    df.to_csv(output_csv, index=False)\n",
    "    print(f\"Archivo de etiquetas generado en '{output_csv}'. Por favor, edítalo para etiquetar tus datos.\")\n",
    "\n",
    "# Generar el archivo de etiquetas\n",
    "generate_labels_file()"
   ]
  },
  {
   "cell_type": "markdown",
   "metadata": {},
   "source": [
    "**Pausa Importante:** Antes de continuar, asegúrate de haber etiquetado tus imágenes en `../data/labels.csv`.\n",
    "\n",
    "Para fines de demostración, el siguiente código simulará que el archivo ha sido etiquetado con datos aleatorios. **En un caso de uso real, no ejecutes la siguiente celda y asegúrate de que tu archivo `labels.csv` está completo.**"
   ]
  },
  {
   "cell_type": "code",
   "execution_count": null,
   "metadata": {},
   "outputs": [],
   "source": [
    "# --- Celda de Simulación (SOLO PARA DEMO) ---\n",
    "labels_path = '../data/labels.csv'\n",
    "if os.path.exists(labels_path):\n",
    "    df_labels = pd.read_csv(labels_path)\n",
    "    if not df_labels.empty:\n",
    "        # Simular etiquetado aleatorio\n",
    "        df_labels['has_bicycle'] = np.random.randint(0, 2, df_labels.shape[0])\n",
    "        df_labels.to_csv(labels_path, index=False)\n",
    "        print(\"Simulación: Se han añadido etiquetas aleatorias a 'labels.csv'.\")"
   ]
  },
  {
   "cell_type": "markdown",
   "metadata": {},
   "source": [
    "## 3. Cargar y Preprocesar Datos"
   ]
  },
  {
   "cell_type": "code",
   "execution_count": null,
   "metadata": {},
   "outputs": [],
   "source": [
    "IMG_HEIGHT, IMG_WIDTH = 128, 128\n",
    "BATCH_SIZE = 32\n",
    "\n",
    "labels_df = pd.read_csv('../data/labels.csv')\n",
    "labels_df['has_bicycle'] = labels_df['has_bicycle'].astype(str)\n",
    "\n",
    "train_df, val_df = train_test_split(labels_df, test_size=0.2, random_state=42, stratify=labels_df['has_bicycle'])\n",
    "\n",
    "train_datagen = ImageDataGenerator(\n",
    "    rescale=1./255,\n",
    "    rotation_range=20,\n",
    "    width_shift_range=0.2,\n",
    "    height_shift_range=0.2,\n",
    "    shear_range=0.2,\n",
    "    zoom_range=0.2,\n",
    "    horizontal_flip=True,\n",
    "    fill_mode='nearest'\n",
    ")\n",
    "\n",
    "val_datagen = ImageDataGenerator(rescale=1./255)\n",
    "\n",
    "train_generator = train_datagen.flow_from_dataframe(\n",
    "    dataframe=train_df,\n",
    "    directory='../data/frames',\n",
    "    x_col='frame',\n",
    "    y_col='has_bicycle',\n",
    "    target_size=(IMG_HEIGHT, IMG_WIDTH),\n",
    "    class_mode='binary',\n",
    "    batch_size=BATCH_SIZE\n",
    ")\n",
    "\n",
    "validation_generator = val_datagen.flow_from_dataframe(\n",
    "    dataframe=val_df,\n",
    "    directory='../data/frames',\n",
    "    x_col='frame',\n",
    "    y_col='has_bicycle',\n",
    "    target_size=(IMG_HEIGHT, IMG_WIDTH),\n",
    "    class_mode='binary',\n",
    "    batch_size=BATCH_SIZE\n",
    ")"
   ]
  },
  {
   "cell_type": "markdown",
   "metadata": {},
   "source": [
    "## 4. Construcción y Entrenamiento del Modelo"
   ]
  },
  {
   "cell_type": "code",
   "execution_count": null,
   "metadata": {},
   "outputs": [],
   "source": [
    "model = Sequential([\n",
    "    Conv2D(32, (3, 3), activation='relu', input_shape=(IMG_HEIGHT, IMG_WIDTH, 3)),\n",
    "    MaxPooling2D((2, 2)),\n",
    "    Conv2D(64, (3, 3), activation='relu'),\n",
    "    MaxPooling2D((2, 2)),\n",
    "    Conv2D(128, (3, 3), activation='relu'),\n",
    "    MaxPooling2D((2, 2)),\n",
    "    Flatten(),\n",
    "    Dense(128, activation='relu'),\n",
    "    Dropout(0.5),\n",
    "    Dense(1, activation='sigmoid')\n",
    "])\n",
    "\n",
    "model.compile(optimizer='adam', loss='binary_crossentropy', metrics=['accuracy'])\n",
    "model.summary()\n",
    "\n",
    "# Entrenar el modelo (si hay datos)\n",
    "if train_generator.n > 0 and validation_generator.n > 0:\n",
    "    history = model.fit(\n",
    "        train_generator,\n",
    "        steps_per_epoch=train_generator.n // BATCH_SIZE,\n",
    "        epochs=10, # En un caso real, usar más épocas\n",
    "        validation_data=validation_generator,\n",
    "        validation_steps=validation_generator.n // BATCH_SIZE\n",
    "    )\n",
    "else:\n",
    "    print(\"No hay suficientes datos para entrenar. Por favor, verifica tus datos y etiquetas.\")"
   ]
  },
  {
   "cell_type": "markdown",
   "metadata": {},
   "source": [
    "## 5. Guardar el Modelo Entrenado"
   ]
  },
  {
   "cell_type": "code",
   "execution_count": null,
   "metadata": {},
   "outputs": [],
   "source": [
    "model.save('../bicycle_detection_model.h5')\n",
    "print(\"Modelo guardado como '../bicycle_detection_model.h5'\")"
   ]
  }
 ],
 "metadata": {
  "kernelspec": {
   "display_name": "Python 3",
   "language": "python",
   "name": "python3"
  },
  "language_info": {
   "codemirror_mode": {
    "name": "ipython",
    "version": 3
   },
   "file_extension": ".py",
   "mimetype": "text/x-python",
   "name": "python",
   "nbconvert_exporter": "python",
   "pygments_lexer": "ipython3",
   "version": "3.9.7"
  }
 },
 "nbformat": 4,
 "nbformat_minor": 4
}
